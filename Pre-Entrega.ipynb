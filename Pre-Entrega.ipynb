{
 "cells": [
  {
   "cell_type": "markdown",
   "id": "99bf227a",
   "metadata": {},
   "source": [
    "# Introducción\n",
    "    El siguiente trabajo consta de un estudio de análisis de elasticidad demanda-precio en contexto inflacionario de las ventas de distribuidores del sector consumo masivo en formato B2B, para lograr estimar mediante un modelo de machien learning la demanda que se consiguiera al realizar un aumento de precio en tal contexto."
   ]
  },
  {
   "cell_type": "markdown",
   "id": "1b41d51c",
   "metadata": {},
   "source": [
    "### Objetivo\n",
    "    El objetivo de este trabajo es realizar un modelo que pueda estimar la variación de demanda que sufrirá una empresa al subir o bajar precios en un contexto inflacionario."
   ]
  },
  {
   "cell_type": "code",
   "execution_count": 8,
   "id": "d11d8388",
   "metadata": {
    "scrolled": true
   },
   "outputs": [],
   "source": [
    "#Importo librerías\n",
    "import matplotlib.pyplot as plt\n",
    "import seaborn as sns\n",
    "import pandas as pd\n",
    "import numpy as np"
   ]
  },
  {
   "cell_type": "code",
   "execution_count": 9,
   "id": "804f3f4a",
   "metadata": {},
   "outputs": [],
   "source": [
    "#cargo dataset\n",
    "dataset_orig = pd.read_excel(\"Base Ventas Retail.xlsx\")"
   ]
  },
  {
   "cell_type": "code",
   "execution_count": 10,
   "id": "d623e6ec",
   "metadata": {},
   "outputs": [],
   "source": [
    "df = dataset_orig"
   ]
  },
  {
   "cell_type": "markdown",
   "id": "cf4214a9",
   "metadata": {},
   "source": [
    "### Dataset:\n",
    "    El dataset planteado contiene información de ventas de distribuidores del sector de consumo masivo operando en la región de Gran Buenos Aires y Capital Federal (AMBA).\n",
    "    Los datos se presentan a nivel de granularidad producto-cliente, agrupados por semana.\n",
    "###### Anonimización:\n",
    "    Por cuestiones de confidencialidad, los campos descriptivos de tanto los productos como los clientes fueron anonimizados previo al comienzo de este análisis mediante seudonimización. Campos tales como localidad, partido, zona, canal no fueron alterados del dataset original."
   ]
  },
  {
   "cell_type": "markdown",
   "id": "85265721",
   "metadata": {},
   "source": [
    "# Exploratory Data Analysis (EDA)"
   ]
  },
  {
   "cell_type": "markdown",
   "id": "83a69ca2",
   "metadata": {},
   "source": [
    "### Limpieza del dataset\n",
    "    Comenzamos a detallar y analizar el dataset."
   ]
  },
  {
   "cell_type": "code",
   "execution_count": 13,
   "id": "e1e592e6",
   "metadata": {},
   "outputs": [
    {
     "data": {
      "text/plain": [
       "(257562, 19)"
      ]
     },
     "execution_count": 13,
     "metadata": {},
     "output_type": "execute_result"
    }
   ],
   "source": [
    "#Viendo la cantidad de campos y registros\n",
    "df.shape"
   ]
  },
  {
   "cell_type": "markdown",
   "id": "88cb9fdb",
   "metadata": {},
   "source": [
    "    El dataset contiene una gran cantidad de registros y campos. Veamos los campos con una pequeña muestra."
   ]
  },
  {
   "cell_type": "code",
   "execution_count": 11,
   "id": "5650edef",
   "metadata": {},
   "outputs": [
    {
     "data": {
      "text/html": [
       "<div>\n",
       "<style scoped>\n",
       "    .dataframe tbody tr th:only-of-type {\n",
       "        vertical-align: middle;\n",
       "    }\n",
       "\n",
       "    .dataframe tbody tr th {\n",
       "        vertical-align: top;\n",
       "    }\n",
       "\n",
       "    .dataframe thead th {\n",
       "        text-align: right;\n",
       "    }\n",
       "</style>\n",
       "<table border=\"1\" class=\"dataframe\">\n",
       "  <thead>\n",
       "    <tr style=\"text-align: right;\">\n",
       "      <th></th>\n",
       "      <th>Código Producto</th>\n",
       "      <th>Marca</th>\n",
       "      <th>Presentación</th>\n",
       "      <th>Producto</th>\n",
       "      <th>KG / Pack</th>\n",
       "      <th>KG / U</th>\n",
       "      <th>U / Pack</th>\n",
       "      <th>Código Cliente</th>\n",
       "      <th>Localidad</th>\n",
       "      <th>Partido</th>\n",
       "      <th>Zona</th>\n",
       "      <th>Empresa</th>\n",
       "      <th>Canal</th>\n",
       "      <th>Año</th>\n",
       "      <th>Semana</th>\n",
       "      <th>Semana (Lunes)</th>\n",
       "      <th>Tiene Feriado</th>\n",
       "      <th>KG</th>\n",
       "      <th>Precio</th>\n",
       "    </tr>\n",
       "  </thead>\n",
       "  <tbody>\n",
       "    <tr>\n",
       "      <th>108431</th>\n",
       "      <td>12</td>\n",
       "      <td>Munchie</td>\n",
       "      <td>Flow</td>\n",
       "      <td>Munchie Especial 2</td>\n",
       "      <td>0.11</td>\n",
       "      <td>0.100</td>\n",
       "      <td>2</td>\n",
       "      <td>2526</td>\n",
       "      <td>Beccar</td>\n",
       "      <td>San Isidro</td>\n",
       "      <td>Norte</td>\n",
       "      <td>MarketUp</td>\n",
       "      <td>Autoservicios + Petit</td>\n",
       "      <td>2023</td>\n",
       "      <td>17</td>\n",
       "      <td>17/4/2023</td>\n",
       "      <td>NO</td>\n",
       "      <td>0.40</td>\n",
       "      <td>2317.800000</td>\n",
       "    </tr>\n",
       "    <tr>\n",
       "      <th>240793</th>\n",
       "      <td>14</td>\n",
       "      <td>Munchie</td>\n",
       "      <td>Flow</td>\n",
       "      <td>Munchie Especial 3</td>\n",
       "      <td>0.11</td>\n",
       "      <td>0.100</td>\n",
       "      <td>2</td>\n",
       "      <td>2935</td>\n",
       "      <td>Pablo Nogués</td>\n",
       "      <td>Malvinas Argentinas</td>\n",
       "      <td>Noroeste</td>\n",
       "      <td>MarketUp</td>\n",
       "      <td>Autoservicios + Petit</td>\n",
       "      <td>2023</td>\n",
       "      <td>20</td>\n",
       "      <td>8/5/2023</td>\n",
       "      <td>NO</td>\n",
       "      <td>NaN</td>\n",
       "      <td>NaN</td>\n",
       "    </tr>\n",
       "    <tr>\n",
       "      <th>189674</th>\n",
       "      <td>4</td>\n",
       "      <td>Munchie</td>\n",
       "      <td>Flow</td>\n",
       "      <td>Munchie Clásico</td>\n",
       "      <td>0.11</td>\n",
       "      <td>0.055</td>\n",
       "      <td>2</td>\n",
       "      <td>3099</td>\n",
       "      <td>José C. Paz</td>\n",
       "      <td>José C. Paz</td>\n",
       "      <td>Noroeste</td>\n",
       "      <td>MarketUp</td>\n",
       "      <td>Autoservicios + Petit</td>\n",
       "      <td>2023</td>\n",
       "      <td>19</td>\n",
       "      <td>1/5/2023</td>\n",
       "      <td>SI</td>\n",
       "      <td>7.92</td>\n",
       "      <td>1877.842273</td>\n",
       "    </tr>\n",
       "    <tr>\n",
       "      <th>54987</th>\n",
       "      <td>11</td>\n",
       "      <td>Munchie</td>\n",
       "      <td>Estuchado</td>\n",
       "      <td>Munchie Clásico</td>\n",
       "      <td>0.11</td>\n",
       "      <td>0.080</td>\n",
       "      <td>4</td>\n",
       "      <td>2144</td>\n",
       "      <td>La Reja</td>\n",
       "      <td>Moreno</td>\n",
       "      <td>Oeste</td>\n",
       "      <td>BizFlow</td>\n",
       "      <td>Autoservicios + Petit</td>\n",
       "      <td>2023</td>\n",
       "      <td>15</td>\n",
       "      <td>3/4/2023</td>\n",
       "      <td>SI</td>\n",
       "      <td>NaN</td>\n",
       "      <td>NaN</td>\n",
       "    </tr>\n",
       "    <tr>\n",
       "      <th>253807</th>\n",
       "      <td>11</td>\n",
       "      <td>Munchie</td>\n",
       "      <td>Estuchado</td>\n",
       "      <td>Munchie Clásico</td>\n",
       "      <td>0.11</td>\n",
       "      <td>0.080</td>\n",
       "      <td>4</td>\n",
       "      <td>8319</td>\n",
       "      <td>Virrey Del Pino</td>\n",
       "      <td>La Matanza</td>\n",
       "      <td>Oeste</td>\n",
       "      <td>BizFlow</td>\n",
       "      <td>Mayoristas</td>\n",
       "      <td>2023</td>\n",
       "      <td>20</td>\n",
       "      <td>8/5/2023</td>\n",
       "      <td>NO</td>\n",
       "      <td>NaN</td>\n",
       "      <td>NaN</td>\n",
       "    </tr>\n",
       "  </tbody>\n",
       "</table>\n",
       "</div>"
      ],
      "text/plain": [
       "        Código Producto    Marca Presentación            Producto  KG / Pack  \\\n",
       "108431               12  Munchie         Flow  Munchie Especial 2       0.11   \n",
       "240793               14  Munchie         Flow  Munchie Especial 3       0.11   \n",
       "189674                4  Munchie         Flow     Munchie Clásico       0.11   \n",
       "54987                11  Munchie    Estuchado     Munchie Clásico       0.11   \n",
       "253807               11  Munchie    Estuchado     Munchie Clásico       0.11   \n",
       "\n",
       "        KG / U  U / Pack  Código Cliente        Localidad  \\\n",
       "108431   0.100         2            2526           Beccar   \n",
       "240793   0.100         2            2935     Pablo Nogués   \n",
       "189674   0.055         2            3099      José C. Paz   \n",
       "54987    0.080         4            2144          La Reja   \n",
       "253807   0.080         4            8319  Virrey Del Pino   \n",
       "\n",
       "                    Partido      Zona   Empresa                  Canal   Año  \\\n",
       "108431           San Isidro     Norte  MarketUp  Autoservicios + Petit  2023   \n",
       "240793  Malvinas Argentinas  Noroeste  MarketUp  Autoservicios + Petit  2023   \n",
       "189674          José C. Paz  Noroeste  MarketUp  Autoservicios + Petit  2023   \n",
       "54987                Moreno     Oeste   BizFlow  Autoservicios + Petit  2023   \n",
       "253807           La Matanza     Oeste   BizFlow             Mayoristas  2023   \n",
       "\n",
       "        Semana Semana (Lunes) Tiene Feriado    KG       Precio  \n",
       "108431      17      17/4/2023            NO  0.40  2317.800000  \n",
       "240793      20       8/5/2023            NO   NaN          NaN  \n",
       "189674      19       1/5/2023            SI  7.92  1877.842273  \n",
       "54987       15       3/4/2023            SI   NaN          NaN  \n",
       "253807      20       8/5/2023            NO   NaN          NaN  "
      ]
     },
     "execution_count": 11,
     "metadata": {},
     "output_type": "execute_result"
    }
   ],
   "source": [
    "df.sample(5)"
   ]
  },
  {
   "cell_type": "markdown",
   "id": "3ad7be9f",
   "metadata": {},
   "source": [
    "###### Se detallan los campos:\n",
    "    Código Producto: Código identificador del producto.\n",
    "    Marca: Marca del producto (anonimizado).\n",
    "    Presentación: Presentación del producto (flow, estuchado o caja)\n",
    "    Producto: Descriptor del tipo de producto.\n",
    "    KG / Pack: Peso en KG por pack.\n",
    "    KG / U: Peso en KG por unidad de producto dentro del pack.\n",
    "    U / Pack: Unidades de producto por cada pack.\n",
    "    \n",
    "    Código Cliente: Código identificador del cliente.\n",
    "    Localidad: Donde reside el ciente.\n",
    "    Partido, Zona: Agrupadores de Localidad.\n",
    "    Canal: Tipo de cliente según clasificación tipo en sector consumo masivo.\n",
    "    Empresa: Distribuidor que le vende al cliente.\n",
    "    \n",
    "    Año, Semana, Semana (Lunes): Semana correspondiente al registro.\n",
    "    Tiene Feriado: Campo con valor SI para las semanas que tuvieron como mínimo un feriado nacional.\n",
    "    \n",
    "    KG: Venta en cantidades medida en KGs.\n",
    "    Precio: Precio de venta neto sin IVA, medido en pesos argentinos / KG."
   ]
  },
  {
   "cell_type": "markdown",
   "id": "7ed7942d",
   "metadata": {},
   "source": [
    "    El dataset por lo tanto tiene las ventas realizadas por empresas distribuidoras en formato B2B (Business To Business), de productos del sector consumo masivo.\n",
    "    La venta se encuentra aparentemente cerrada por semana, y al ser de Argentina del año 2023 se deberían observar comportamientos inflacionarios de precio."
   ]
  },
  {
   "cell_type": "markdown",
   "id": "850b13e9",
   "metadata": {},
   "source": [
    "    Para esto sin embargo debemos avanzar en la limpieza del dataset, para un correcto estudio del mismo."
   ]
  },
  {
   "cell_type": "code",
   "execution_count": 14,
   "id": "c15de5c0",
   "metadata": {},
   "outputs": [
    {
     "name": "stdout",
     "output_type": "stream",
     "text": [
      "KG\n",
      "True     194905\n",
      "False     62657\n",
      "Name: count, dtype: int64\n",
      "\n",
      "Precio\n",
      "True    194905\n",
      "Name: count, dtype: int64\n"
     ]
    }
   ],
   "source": [
    "# Chequeamos registros nulos en cantidades para eliminarlos del modelo\n",
    "print(pd.isnull(df.KG).value_counts())\n",
    "print()\n",
    "print(pd.isnull(df[pd.isnull(df.KG)].Precio).value_counts())"
   ]
  },
  {
   "cell_type": "code",
   "execution_count": 15,
   "id": "b98dc973",
   "metadata": {},
   "outputs": [],
   "source": [
    "#Quitamos vacíos en cantidades\n",
    "df2 = df.dropna(subset=['KG', 'Precio'])"
   ]
  },
  {
   "cell_type": "code",
   "execution_count": 26,
   "id": "dbbbd7fd",
   "metadata": {},
   "outputs": [],
   "source": [
    "#Quitamos valores negativos o 0 en KG o en Precio\n",
    "df3 = df2.drop (df2 [(df2.KG <= 0) | (df2.Precio <= 1)].index)"
   ]
  },
  {
   "cell_type": "code",
   "execution_count": 27,
   "id": "9a95ab7e",
   "metadata": {},
   "outputs": [
    {
     "name": "stdout",
     "output_type": "stream",
     "text": [
      "Partido\n",
      "CABA                   13009\n",
      "La Matanza              9527\n",
      "Merlo                   3761\n",
      "Tigre                   3490\n",
      "Vicente López           3294\n",
      "Lanús                   3104\n",
      "Morón                   2819\n",
      "Moreno                  2770\n",
      "Malvinas Argentinas     2754\n",
      "Avellaneda              2522\n",
      "San Isidro              2379\n",
      "Quilmes                 2233\n",
      "San Fernando            2025\n",
      "José C. Paz             1873\n",
      "Ituzaingó               1439\n",
      "General Rodríguez       1148\n",
      "Escobar                  732\n",
      "Marcos Paz               641\n",
      "S/D                      374\n",
      "Tres de Febrero          158\n",
      "Lomas de Zamora           95\n",
      "Hurlingham                26\n",
      "General San Martín        21\n",
      "San Miguel                16\n",
      "General Arenales          10\n",
      "Cañuelas                   6\n",
      "La Plata                   6\n",
      "Luján                      1\n",
      "Berazategui                1\n",
      "Name: count, dtype: int64\n",
      "\n",
      "Zona\n",
      "Oeste       22285\n",
      "CABA        13009\n",
      "Norte       11921\n",
      "Sur          7960\n",
      "Noroeste     4669\n",
      "S/D           374\n",
      "PBA            16\n",
      "Name: count, dtype: int64\n"
     ]
    }
   ],
   "source": [
    "#Chequeamos cantidad de registros por partido y por zona\n",
    "print(df3.Partido.value_counts())\n",
    "print()\n",
    "print(df3.Zona.value_counts())"
   ]
  },
  {
   "cell_type": "code",
   "execution_count": 28,
   "id": "396d65c7",
   "metadata": {},
   "outputs": [],
   "source": [
    "#Quitamos valores S/D en Partido y Zona, y valores PBA en Zona\n",
    "df4 = df3.drop (df3 [(df3.Partido == 'S/D') | (df3.Zona == 'S/D') | (df3.Zona == 'PBA')].index)"
   ]
  },
  {
   "cell_type": "code",
   "execution_count": 81,
   "id": "57099c97",
   "metadata": {},
   "outputs": [
    {
     "data": {
      "text/plain": [
       "(59844, 19)"
      ]
     },
     "execution_count": 81,
     "metadata": {},
     "output_type": "execute_result"
    }
   ],
   "source": [
    "#Reemplazamos valores NO, SI en campo Es Feriado por booleanos\n",
    "df5 = df4.replace(\"NO\",\"0\").replace(\"SI\",\"1\")\n",
    "df5.shape"
   ]
  },
  {
   "cell_type": "markdown",
   "id": "0dd10705",
   "metadata": {},
   "source": [
    "    A nivel estructura, el dataset se encuentra limpio para ser analizado.\n",
    "    A nivel estadístico, debemos considerar la posibilidad de outliers en KG y en precio que nos sumen un sesgo al utilizar regresiones o medidas de tendencia central, que al eliminar de la muestra considerada no modifiquen la distribución de la misma. "
   ]
  },
  {
   "cell_type": "markdown",
   "id": "dd9ffba6",
   "metadata": {},
   "source": [
    "        Esto nos indica que existe una fuerte tendencia a haber outliers en KGs pero no así de precios, lo cual descarta al efecto inflacionario como un posible explicativo del fenómeno."
   ]
  },
  {
   "cell_type": "markdown",
   "id": "389d030d",
   "metadata": {},
   "source": [
    "    Graficamos un boxplot de precio y un boxplot de volumen para visualizar ambos."
   ]
  },
  {
   "cell_type": "code",
   "execution_count": 95,
   "id": "ff44485c",
   "metadata": {},
   "outputs": [
    {
     "data": {
      "text/plain": [
       "Text(0.5, 1.0, 'Boxplot - Precio')"
      ]
     },
     "execution_count": 95,
     "metadata": {},
     "output_type": "execute_result"
    },
    {
     "data": {
      "image/png": "[encoded data removed]",
      "text/plain": [
       "<Figure size 1000x200 with 2 Axes>"
      ]
     },
     "metadata": {},
     "output_type": "display_data"
    }
   ],
   "source": [
    "# Crear una figura y ejes compartidos\n",
    "fig, axs = plt.subplots(1, 2, sharey=True, figsize=(10, 2))\n",
    "\n",
    "# Boxplot para Campo1\n",
    "sns.boxplot(x=df5['KG'], ax=axs[0])\n",
    "axs[0].set_title('Boxplot - KG')\n",
    "\n",
    "# Boxplot para Campo2\n",
    "sns.boxplot(x=df5['Precio'], ax=axs[1])\n",
    "axs[1].set_title('Boxplot - Precio')"
   ]
  },
  {
   "cell_type": "markdown",
   "id": "626a4ac3",
   "metadata": {},
   "source": [
    "    El dataset nos adelantaron que es inflacionario, lo cual por definición nos quitaría poder explicativo del volumen explicado por precios, como únicas variables. En qué marco temporal se ubican las ventas del dataset?"
   ]
  },
  {
   "cell_type": "code",
   "execution_count": 97,
   "id": "79bb428b",
   "metadata": {},
   "outputs": [
    {
     "data": {
      "text/html": [
       "<div>\n",
       "<style scoped>\n",
       "    .dataframe tbody tr th:only-of-type {\n",
       "        vertical-align: middle;\n",
       "    }\n",
       "\n",
       "    .dataframe tbody tr th {\n",
       "        vertical-align: top;\n",
       "    }\n",
       "\n",
       "    .dataframe thead th {\n",
       "        text-align: right;\n",
       "    }\n",
       "</style>\n",
       "<table border=\"1\" class=\"dataframe\">\n",
       "  <thead>\n",
       "    <tr style=\"text-align: right;\">\n",
       "      <th></th>\n",
       "      <th></th>\n",
       "      <th>Semana</th>\n",
       "      <th>Semana (Lunes)</th>\n",
       "    </tr>\n",
       "    <tr>\n",
       "      <th>Semana</th>\n",
       "      <th>Semana (Lunes)</th>\n",
       "      <th></th>\n",
       "      <th></th>\n",
       "    </tr>\n",
       "  </thead>\n",
       "  <tbody>\n",
       "    <tr>\n",
       "      <th>14</th>\n",
       "      <th>27/3/2023</th>\n",
       "      <td>11117</td>\n",
       "      <td>11117</td>\n",
       "    </tr>\n",
       "    <tr>\n",
       "      <th>15</th>\n",
       "      <th>3/4/2023</th>\n",
       "      <td>8674</td>\n",
       "      <td>8674</td>\n",
       "    </tr>\n",
       "    <tr>\n",
       "      <th>17</th>\n",
       "      <th>17/4/2023</th>\n",
       "      <td>9363</td>\n",
       "      <td>9363</td>\n",
       "    </tr>\n",
       "    <tr>\n",
       "      <th>18</th>\n",
       "      <th>24/4/2023</th>\n",
       "      <td>9568</td>\n",
       "      <td>9568</td>\n",
       "    </tr>\n",
       "    <tr>\n",
       "      <th>19</th>\n",
       "      <th>1/5/2023</th>\n",
       "      <td>10000</td>\n",
       "      <td>10000</td>\n",
       "    </tr>\n",
       "    <tr>\n",
       "      <th>20</th>\n",
       "      <th>8/5/2023</th>\n",
       "      <td>11122</td>\n",
       "      <td>11122</td>\n",
       "    </tr>\n",
       "  </tbody>\n",
       "</table>\n",
       "</div>"
      ],
      "text/plain": [
       "                       Semana  Semana (Lunes)\n",
       "Semana Semana (Lunes)                        \n",
       "14     27/3/2023        11117           11117\n",
       "15     3/4/2023          8674            8674\n",
       "17     17/4/2023         9363            9363\n",
       "18     24/4/2023         9568            9568\n",
       "19     1/5/2023         10000           10000\n",
       "20     8/5/2023         11122           11122"
      ]
     },
     "execution_count": 97,
     "metadata": {},
     "output_type": "execute_result"
    }
   ],
   "source": [
    "df5.groupby(['Semana', 'Semana (Lunes)'])[['Semana','Semana (Lunes)']].count()"
   ]
  },
  {
   "cell_type": "markdown",
   "id": "19b890d9",
   "metadata": {},
   "source": [
    "    El dataset se conforma por ventas en las semanas entre fin de Marzo y primera quincena de Abril, con un faltante de datos en la semana 16 (10/04/2023).\n",
    "    Como sabemos, el dataset se conforma de datos de AMBA. La inflación en la región AMBA en abril 2023 de Alimentos y Bebidas No Alcohólicas [INDEC] fue de 8,4%."
   ]
  },
  {
   "cell_type": "markdown",
   "id": "690d7e1a",
   "metadata": {},
   "source": [
    "### El resto del análisis se encontraba en modo exploratorio y no debería ser considerado como el definitivo.\n",
    "### Como planificado para el EDA, falta:\n",
    "#####         Eliminación de outliers mediante método intercuartil,\n",
    "#####         Histograma de precio / KG por tipo de producto, o por U / Pack,\n",
    "#####         Análisis de precio por Canal y por Zona\n",
    "#####         Scatterplot de precio/demanda por Canal, Producto, Zona, u otros"
   ]
  },
  {
   "cell_type": "code",
   "execution_count": 93,
   "id": "a0cd9fc6",
   "metadata": {},
   "outputs": [
    {
     "data": {
      "image/png": "[encoded data removed]",
      "text/plain": [
       "<Figure size 1500x500 with 6 Axes>"
      ]
     },
     "metadata": {},
     "output_type": "display_data"
    }
   ],
   "source": [
    "# Crear una figura y ejes compartidos\n",
    "fig, axs = plt.subplots(1, 6, sharey=True, figsize=(15, 5))  # 1 fila, 3 columnas\n",
    "\n",
    "# Scatter plot 1\n",
    "sns.scatterplot(x='KG', y='Precio', data=df5[df5['Semana']==14], ax=axs[0])\n",
    "axs[0].set_title('Semana 14')\n",
    "\n",
    "# Scatter plot 2\n",
    "sns.scatterplot(x='KG', y='Precio', data=df5[df5['Semana']==15], ax=axs[1])\n",
    "axs[1].set_title('Semana 15')\n",
    "\n",
    "# Scatter plot 3\n",
    "sns.scatterplot(x='KG', y='Precio', data=df5[df5['Semana']==17], ax=axs[2])\n",
    "axs[2].set_title('Semana 17')\n",
    "\n",
    "# Scatter plot 4\n",
    "sns.scatterplot(x='KG', y='Precio', data=df5[df5['Semana']==18], ax=axs[3])\n",
    "axs[3].set_title('Semana 18')\n",
    "\n",
    "# Scatter plot 5\n",
    "sns.scatterplot(x='KG', y='Precio', data=df5[df5['Semana']==19], ax=axs[4])\n",
    "axs[4].set_title('Semana 19')\n",
    "\n",
    "# Scatter plot 6\n",
    "sns.scatterplot(x='KG', y='Precio', data=df5[df5['Semana']==20], ax=axs[5])\n",
    "axs[5].set_title('Semana 20')\n",
    "\n",
    "# Ajustar el diseño\n",
    "plt.tight_layout()\n",
    "\n",
    "# Mostrar el gráfico\n",
    "plt.show()"
   ]
  },
  {
   "cell_type": "markdown",
   "id": "f3e209d9",
   "metadata": {},
   "source": [
    "    Por otro lado, el dataset incluye datos de varios canales de venta."
   ]
  },
  {
   "cell_type": "code",
   "execution_count": 42,
   "id": "89db78df",
   "metadata": {},
   "outputs": [
    {
     "data": {
      "text/plain": [
       "Canal\n",
       "Autoservicios + Petit    35837\n",
       "Almacenes                 9788\n",
       "Kioscos                   5286\n",
       "Otros                     3618\n",
       "Fiambrerias               2203\n",
       "Mayoristas                1862\n",
       "Gastronómicos             1104\n",
       "Pollerias                   62\n",
       "Distribuidores              58\n",
       "Industria                   26\n",
       "Name: count, dtype: int64"
      ]
     },
     "execution_count": 42,
     "metadata": {},
     "output_type": "execute_result"
    }
   ],
   "source": [
    "df5.Canal.value_counts()"
   ]
  },
  {
   "cell_type": "markdown",
   "id": "635479fb",
   "metadata": {},
   "source": [
    "Los canales podría ocurrir que tengan distintos precios si algunos canales (los clientes de los distribuidores) fueron ellos mismos modalidad B2B o B2C. Esto lo podríamos observar comparando el precio al que se le vendió a cada canal.}"
   ]
  },
  {
   "cell_type": "code",
   "execution_count": 69,
   "id": "e9527f3a",
   "metadata": {},
   "outputs": [
    {
     "data": {
      "text/plain": [
       "[Text(0, 0, 'Autoservicios + Petit'),\n",
       " Text(1, 0, 'Almacenes'),\n",
       " Text(2, 0, 'Kioscos'),\n",
       " Text(3, 0, 'Fiambrerias'),\n",
       " Text(4, 0, 'Gastronómicos'),\n",
       " Text(5, 0, 'Mayoristas'),\n",
       " Text(6, 0, 'Distribuidores'),\n",
       " Text(7, 0, 'Industria'),\n",
       " Text(8, 0, 'Otros'),\n",
       " Text(9, 0, 'Pollerias')]"
      ]
     },
     "execution_count": 69,
     "metadata": {},
     "output_type": "execute_result"
    },
    {
     "data": {
      "image/png": "[encoded data removed]",
      "text/plain": [
       "<Figure size 1200x600 with 1 Axes>"
      ]
     },
     "metadata": {},
     "output_type": "display_data"
    }
   ],
   "source": [
    "plt.figure(figsize=(12, 6))\n",
    "ax = sns.barplot(data=df5, x='Canal', y='Precio')\n",
    "ax.set_xticklabels(ax.get_xticklabels(), fontsize=8)"
   ]
  }
 ],
 "metadata": {
  "kernelspec": {
   "display_name": "Python 3 (ipykernel)",
   "language": "python",
   "name": "python3"
  },
  "language_info": {
   "codemirror_mode": {
    "name": "ipython",
    "version": 3
   },
   "file_extension": ".py",
   "mimetype": "text/x-python",
   "name": "python",
   "nbconvert_exporter": "python",
   "pygments_lexer": "ipython3",
   "version": "3.11.5"
  }
 },
 "nbformat": 4,
 "nbformat_minor": 5
}
